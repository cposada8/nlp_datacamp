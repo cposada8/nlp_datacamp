{
 "cells": [
  {
   "cell_type": "markdown",
   "metadata": {},
   "source": [
    "# Word tokenization with NLTK"
   ]
  },
  {
   "cell_type": "markdown",
   "metadata": {},
   "source": [
    "En este módulo aprenderá:\n",
    "* tokenizar un texto completo, separándolo en frases, con sent_tokenize\n",
    "* tokenizar una frase usando word_tokenize"
   ]
  },
  {
   "cell_type": "code",
   "execution_count": 11,
   "metadata": {},
   "outputs": [],
   "source": [
    "scene_one =  \"SCENE 1: [wind] [clop clop clop] \\nKING ARTHUR: Whoa there!  [clop clop clop] \\nSOLDIER #1: Halt!  Who goes there?\\nARTHUR: It is I, Arthur, son of Uther Pendragon, from the castle of Camelot.  King of the Britons, defeator of the Saxons, sovereign of all England!\\nSOLDIER #1: Pull the other one!\\nARTHUR: I am, ...  and this is my trusty servant Patsy.  We have ridden the length and breadth of the land in search of knights who will join me in my court at Camelot.  I must speak with your lord and master.\\nSOLDIER #1: What?  Ridden on a horse?\\nARTHUR: Yes!\\nSOLDIER #1: You're using coconuts!\\nARTHUR: What?\\nSOLDIER #1: You've got two empty halves of coconut and you're bangin' 'em together.\\nARTHUR: So?  We have ridden since the snows of winter covered this land, through the kingdom of Mercea, through--\\nSOLDIER #1: Where'd you get the coconuts?\\nARTHUR: We found them.\\nSOLDIER #1: Found them?  In Mercea?  The coconut's tropical!\\nARTHUR: What do you mean?\\nSOLDIER #1: Well, this is a temperate zone.\\nARTHUR: The swallow may fly south with the sun or the house martin or the plover may seek warmer climes in winter, yet these are not strangers to our land?\\nSOLDIER #1: Are you suggesting coconuts migrate?\\nARTHUR: Not at all.  They could be carried.\\nSOLDIER #1: What?  A swallow carrying a coconut?\\nARTHUR: It could grip it by the husk!\\nSOLDIER #1: It's not a question of where he grips it!  It's a simple question of weight ratios!  A five ounce bird could not carry a one pound coconut.\\nARTHUR: Well, it doesn't matter.  Will you go and tell your master that Arthur from the Court of Camelot is here.\\nSOLDIER #1: Listen.  In order to maintain air-speed velocity, a swallow needs to beat its wings forty-three times every second, right?\\nARTHUR: Please!\\nSOLDIER #1: Am I right?\\nARTHUR: I'm not interested!\\nSOLDIER #2: It could be carried by an African swallow!\\nSOLDIER #1: Oh, yeah, an African swallow maybe, but not a European swallow.  That's my point.\\nSOLDIER #2: Oh, yeah, I agree with that.\\nARTHUR: Will you ask your master if he wants to join my court at Camelot?!\\nSOLDIER #1: But then of course a-- African swallows are non-migratory.\\nSOLDIER #2: Oh, yeah...\\nSOLDIER #1: So they couldn't bring a coconut back anyway...  [clop clop clop] \\nSOLDIER #2: Wait a minute!  Supposing two swallows carried it together?\\nSOLDIER #1: No, they'd have to have it on a line.\\nSOLDIER #2: Well, simple!  They'd just use a strand of creeper!\\nSOLDIER #1: What, held under the dorsal guiding feathers?\\nSOLDIER #2: Well, why not?\\n\""
   ]
  },
  {
   "cell_type": "code",
   "execution_count": 12,
   "metadata": {},
   "outputs": [],
   "source": [
    "# %pip install nltk"
   ]
  },
  {
   "cell_type": "code",
   "execution_count": 13,
   "metadata": {},
   "outputs": [],
   "source": [
    "# Import necessary modules\n",
    "from nltk.tokenize import sent_tokenize\n",
    "from nltk.tokenize import word_tokenize"
   ]
  },
  {
   "cell_type": "code",
   "execution_count": 14,
   "metadata": {},
   "outputs": [],
   "source": [
    "# Split scene_one into sentences: sentences\n",
    "sentences = sent_tokenize(scene_one)"
   ]
  },
  {
   "cell_type": "code",
   "execution_count": 15,
   "metadata": {},
   "outputs": [],
   "source": [
    "# Use word_tokenize to tokenize the fourth sentence: tokenized_sent\n",
    "tokenized_sent = word_tokenize(sentences[3])"
   ]
  },
  {
   "cell_type": "code",
   "execution_count": 16,
   "metadata": {},
   "outputs": [],
   "source": [
    "# Make a set of unique tokens in the entire scene: unique_tokens\n",
    "unique_tokens = set(word_tokenize(scene_one))"
   ]
  },
  {
   "cell_type": "code",
   "execution_count": 18,
   "metadata": {},
   "outputs": [
    {
     "name": "stdout",
     "output_type": "stream",
     "text": [
      "{'the', 'our', 'yeah', 'A', 'warmer', 'have', 'weight', 'zone', 'use', 'non-migratory', 'guiding', 'strangers', 'What', 'In', 'bring', 'winter', 'grip', 'times', 'simple', 'sovereign', 'Mercea', 'Please', 'one', 'may', '!', 'agree', 'am', 'covered', 'why', \"'d\", 'master', 'south', '2', 'climes', '...', 'interested', 'Found', 'question', 'forty-three', 'length', 'order', 'these', 'Saxons', ']', 'carry', 'me', 'maybe', 'velocity', 'needs', 'swallow', 'pound', 'he', 'breadth', 'anyway', 'who', 'your', 'Britons', 'mean', 'five', 'and', 'under', 'by', 'Halt', 'Well', 'this', 'Court', 'through', 'African', 'suggesting', 'line', 'tell', 'Camelot', 'horse', 'speak', 'No', 'using', 'found', 'King', 'temperate', 'KING', 'its', 'yet', 'bird', 'sun', 'from', 'tropical', 'I', \"'\", 'Not', 'all', 'castle', 'do', 'court', 'ounce', 'That', '#', 'got', 'where', 'of', 'every', \"n't\", 'Will', 'join', 'two', 'ARTHUR', \"'em\", 'if', 'SOLDIER', 'house', 'So', 'air-speed', 'servant', 'does', 'right', 'Where', 'held', 'not', 'with', 'Oh', 'strand', 'husk', 'snows', 'Listen', 'get', 'empty', ':', 'land', 'an', 'a', 'wants', 'they', 'ratios', 'second', 'European', 'will', 'feathers', 'ask', 'lord', 'Arthur', 'England', 'Am', 'carried', 'that', 'minute', 'It', 'together', 'my', 'back', 'them', 'it', 'grips', 'are', 'ridden', \"'m\", 'knights', \"'ve\", 'Who', '?', 'bangin', 'coconut', 'fly', 'plover', 'Supposing', 'in', 'creeper', 'carrying', 'at', 'migrate', 'could', 'Ridden', 'course', 'but', '.', 'or', 'They', '--', 'must', 'Are', 'kingdom', 'you', 'Whoa', 'be', 'is', 'on', 'wind', 'there', 'coconuts', 'seek', 'search', 'We', 'go', 'wings', 'maintain', 'matter', 'here', '[', 'But', 'SCENE', 'halves', 'defeator', 'The', '1', 'Pull', 'You', ',', 'other', 'Yes', \"'s\", 'Wait', \"'re\", 'Patsy', 'swallows', 'beat', 'goes', 'martin', 'just', 'since', 'Uther', 'to', 'son', 'then', 'trusty', 'Pendragon', 'point', 'clop', 'dorsal'}\n"
     ]
    }
   ],
   "source": [
    "# Print the unique tokens result\n",
    "print(unique_tokens)"
   ]
  },
  {
   "cell_type": "code",
   "execution_count": null,
   "metadata": {},
   "outputs": [],
   "source": []
  }
 ],
 "metadata": {
  "kernelspec": {
   "display_name": "Python 3",
   "language": "python",
   "name": "python3"
  },
  "language_info": {
   "codemirror_mode": {
    "name": "ipython",
    "version": 3
   },
   "file_extension": ".py",
   "mimetype": "text/x-python",
   "name": "python",
   "nbconvert_exporter": "python",
   "pygments_lexer": "ipython3",
   "version": "3.7.1"
  }
 },
 "nbformat": 4,
 "nbformat_minor": 4
}
